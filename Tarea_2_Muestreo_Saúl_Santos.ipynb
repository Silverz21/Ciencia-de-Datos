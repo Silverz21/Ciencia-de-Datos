{
  "nbformat": 4,
  "nbformat_minor": 0,
  "metadata": {
    "colab": {
      "provenance": [],
      "mount_file_id": "1RedurrC3sU0zU8C3diLRY84g6ppuQDKW",
      "authorship_tag": "ABX9TyO/Y47CYrqU3XKnBbGHKJQU",
      "include_colab_link": true
    },
    "kernelspec": {
      "name": "python3",
      "display_name": "Python 3"
    },
    "language_info": {
      "name": "python"
    }
  },
  "cells": [
    {
      "cell_type": "markdown",
      "metadata": {
        "id": "view-in-github",
        "colab_type": "text"
      },
      "source": [
        "<a href=\"https://colab.research.google.com/github/Silverz21/Ciencia-de-Datos/blob/main/Tarea_2_Muestreo_Sa%C3%BAl_Santos.ipynb\" target=\"_parent\"><img src=\"https://colab.research.google.com/assets/colab-badge.svg\" alt=\"Open In Colab\"/></a>"
      ]
    },
    {
      "cell_type": "code",
      "execution_count": 446,
      "metadata": {
        "id": "rl3Wytc3QGNy"
      },
      "outputs": [],
      "source": [
        "import pandas as pd\n",
        "import numpy as np\n",
        "import scipy.stats as st"
      ]
    },
    {
      "cell_type": "markdown",
      "source": [
        "Fijar un conjunto de datos en donde se mida una variable de interés sobre una \n",
        "población. Describir dicho conjunto de datos, detectar la presencia de posibles\n",
        "valores atípicos y de acuerdo a la variable que se esta midiendo, definir un\n",
        "atributo para estimar una proporción o total poblacional."
      ],
      "metadata": {
        "id": "Mh6X8wcJQhVj"
      }
    },
    {
      "cell_type": "markdown",
      "source": [
        "En este ejemplo nuestros datos son los adeudos que ciertas compañias tienen con la nuestra (esto en dólares). El atributo a estimar para la muestra serán las compañias que tengan un adeudo menor a los $\\$$2000 dólares y a su vez el de la\n",
        "proporción serán aquellas que tengan adeudo menor a $600 dólares."
      ],
      "metadata": {
        "id": "baxFj4cqQ-7c"
      }
    },
    {
      "cell_type": "markdown",
      "source": [
        "Como primer paso extraemos nuestro conjunto de datos, los cuáles están dentro\n",
        "de un archivo de excel. Después creamos un DataFrame (o una matriz con los \n",
        "datos de nuestro archivo), el cual es con el que vamos a trabajar."
      ],
      "metadata": {
        "id": "MBoBQucWSb0t"
      }
    },
    {
      "cell_type": "code",
      "source": [
        "path = 'datos.xlsx'\n",
        "df = pd.read_excel(path)\n",
        "df=df.set_index(\"ID\")\n",
        "N = df.count()[0]\n",
        "df"
      ],
      "metadata": {
        "colab": {
          "base_uri": "https://localhost:8080/",
          "height": 455
        },
        "id": "lv-ITgj4QghZ",
        "outputId": "f9c9f6a8-11e1-4150-da0e-e3632e5665aa"
      },
      "execution_count": 447,
      "outputs": [
        {
          "output_type": "execute_result",
          "data": {
            "text/plain": [
              "          Proveedor  Saldo pendiente (en dólares)\n",
              "ID                                               \n",
              "P0001    So Factive                          63.0\n",
              "P0002    Kontroller                        4250.0\n",
              "P0003   Finance Api                        2412.0\n",
              "P0004   Biomotivate                        3348.0\n",
              "P0005     Deltavita                         570.0\n",
              "...             ...                           ...\n",
              "P0995       Actenet                        7876.0\n",
              "P0996     Datawrite                        4703.0\n",
              "P0997  Echo Digital                        2786.0\n",
              "P0998      Meussicz                        3442.0\n",
              "P0999       Learnig                        2505.0\n",
              "\n",
              "[999 rows x 2 columns]"
            ],
            "text/html": [
              "\n",
              "  <div id=\"df-703474dd-df0d-4bee-b0f3-c5b8a06c0d6d\">\n",
              "    <div class=\"colab-df-container\">\n",
              "      <div>\n",
              "<style scoped>\n",
              "    .dataframe tbody tr th:only-of-type {\n",
              "        vertical-align: middle;\n",
              "    }\n",
              "\n",
              "    .dataframe tbody tr th {\n",
              "        vertical-align: top;\n",
              "    }\n",
              "\n",
              "    .dataframe thead th {\n",
              "        text-align: right;\n",
              "    }\n",
              "</style>\n",
              "<table border=\"1\" class=\"dataframe\">\n",
              "  <thead>\n",
              "    <tr style=\"text-align: right;\">\n",
              "      <th></th>\n",
              "      <th>Proveedor</th>\n",
              "      <th>Saldo pendiente (en dólares)</th>\n",
              "    </tr>\n",
              "    <tr>\n",
              "      <th>ID</th>\n",
              "      <th></th>\n",
              "      <th></th>\n",
              "    </tr>\n",
              "  </thead>\n",
              "  <tbody>\n",
              "    <tr>\n",
              "      <th>P0001</th>\n",
              "      <td>So Factive</td>\n",
              "      <td>63.0</td>\n",
              "    </tr>\n",
              "    <tr>\n",
              "      <th>P0002</th>\n",
              "      <td>Kontroller</td>\n",
              "      <td>4250.0</td>\n",
              "    </tr>\n",
              "    <tr>\n",
              "      <th>P0003</th>\n",
              "      <td>Finance Api</td>\n",
              "      <td>2412.0</td>\n",
              "    </tr>\n",
              "    <tr>\n",
              "      <th>P0004</th>\n",
              "      <td>Biomotivate</td>\n",
              "      <td>3348.0</td>\n",
              "    </tr>\n",
              "    <tr>\n",
              "      <th>P0005</th>\n",
              "      <td>Deltavita</td>\n",
              "      <td>570.0</td>\n",
              "    </tr>\n",
              "    <tr>\n",
              "      <th>...</th>\n",
              "      <td>...</td>\n",
              "      <td>...</td>\n",
              "    </tr>\n",
              "    <tr>\n",
              "      <th>P0995</th>\n",
              "      <td>Actenet</td>\n",
              "      <td>7876.0</td>\n",
              "    </tr>\n",
              "    <tr>\n",
              "      <th>P0996</th>\n",
              "      <td>Datawrite</td>\n",
              "      <td>4703.0</td>\n",
              "    </tr>\n",
              "    <tr>\n",
              "      <th>P0997</th>\n",
              "      <td>Echo Digital</td>\n",
              "      <td>2786.0</td>\n",
              "    </tr>\n",
              "    <tr>\n",
              "      <th>P0998</th>\n",
              "      <td>Meussicz</td>\n",
              "      <td>3442.0</td>\n",
              "    </tr>\n",
              "    <tr>\n",
              "      <th>P0999</th>\n",
              "      <td>Learnig</td>\n",
              "      <td>2505.0</td>\n",
              "    </tr>\n",
              "  </tbody>\n",
              "</table>\n",
              "<p>999 rows × 2 columns</p>\n",
              "</div>\n",
              "      <button class=\"colab-df-convert\" onclick=\"convertToInteractive('df-703474dd-df0d-4bee-b0f3-c5b8a06c0d6d')\"\n",
              "              title=\"Convert this dataframe to an interactive table.\"\n",
              "              style=\"display:none;\">\n",
              "        \n",
              "  <svg xmlns=\"http://www.w3.org/2000/svg\" height=\"24px\"viewBox=\"0 0 24 24\"\n",
              "       width=\"24px\">\n",
              "    <path d=\"M0 0h24v24H0V0z\" fill=\"none\"/>\n",
              "    <path d=\"M18.56 5.44l.94 2.06.94-2.06 2.06-.94-2.06-.94-.94-2.06-.94 2.06-2.06.94zm-11 1L8.5 8.5l.94-2.06 2.06-.94-2.06-.94L8.5 2.5l-.94 2.06-2.06.94zm10 10l.94 2.06.94-2.06 2.06-.94-2.06-.94-.94-2.06-.94 2.06-2.06.94z\"/><path d=\"M17.41 7.96l-1.37-1.37c-.4-.4-.92-.59-1.43-.59-.52 0-1.04.2-1.43.59L10.3 9.45l-7.72 7.72c-.78.78-.78 2.05 0 2.83L4 21.41c.39.39.9.59 1.41.59.51 0 1.02-.2 1.41-.59l7.78-7.78 2.81-2.81c.8-.78.8-2.07 0-2.86zM5.41 20L4 18.59l7.72-7.72 1.47 1.35L5.41 20z\"/>\n",
              "  </svg>\n",
              "      </button>\n",
              "      \n",
              "  <style>\n",
              "    .colab-df-container {\n",
              "      display:flex;\n",
              "      flex-wrap:wrap;\n",
              "      gap: 12px;\n",
              "    }\n",
              "\n",
              "    .colab-df-convert {\n",
              "      background-color: #E8F0FE;\n",
              "      border: none;\n",
              "      border-radius: 50%;\n",
              "      cursor: pointer;\n",
              "      display: none;\n",
              "      fill: #1967D2;\n",
              "      height: 32px;\n",
              "      padding: 0 0 0 0;\n",
              "      width: 32px;\n",
              "    }\n",
              "\n",
              "    .colab-df-convert:hover {\n",
              "      background-color: #E2EBFA;\n",
              "      box-shadow: 0px 1px 2px rgba(60, 64, 67, 0.3), 0px 1px 3px 1px rgba(60, 64, 67, 0.15);\n",
              "      fill: #174EA6;\n",
              "    }\n",
              "\n",
              "    [theme=dark] .colab-df-convert {\n",
              "      background-color: #3B4455;\n",
              "      fill: #D2E3FC;\n",
              "    }\n",
              "\n",
              "    [theme=dark] .colab-df-convert:hover {\n",
              "      background-color: #434B5C;\n",
              "      box-shadow: 0px 1px 3px 1px rgba(0, 0, 0, 0.15);\n",
              "      filter: drop-shadow(0px 1px 2px rgba(0, 0, 0, 0.3));\n",
              "      fill: #FFFFFF;\n",
              "    }\n",
              "  </style>\n",
              "\n",
              "      <script>\n",
              "        const buttonEl =\n",
              "          document.querySelector('#df-703474dd-df0d-4bee-b0f3-c5b8a06c0d6d button.colab-df-convert');\n",
              "        buttonEl.style.display =\n",
              "          google.colab.kernel.accessAllowed ? 'block' : 'none';\n",
              "\n",
              "        async function convertToInteractive(key) {\n",
              "          const element = document.querySelector('#df-703474dd-df0d-4bee-b0f3-c5b8a06c0d6d');\n",
              "          const dataTable =\n",
              "            await google.colab.kernel.invokeFunction('convertToInteractive',\n",
              "                                                     [key], {});\n",
              "          if (!dataTable) return;\n",
              "\n",
              "          const docLinkHtml = 'Like what you see? Visit the ' +\n",
              "            '<a target=\"_blank\" href=https://colab.research.google.com/notebooks/data_table.ipynb>data table notebook</a>'\n",
              "            + ' to learn more about interactive tables.';\n",
              "          element.innerHTML = '';\n",
              "          dataTable['output_type'] = 'display_data';\n",
              "          await google.colab.output.renderOutput(dataTable, element);\n",
              "          const docLink = document.createElement('div');\n",
              "          docLink.innerHTML = docLinkHtml;\n",
              "          element.appendChild(docLink);\n",
              "        }\n",
              "      </script>\n",
              "    </div>\n",
              "  </div>\n",
              "  "
            ]
          },
          "metadata": {},
          "execution_count": 447
        }
      ]
    },
    {
      "cell_type": "markdown",
      "source": [
        "Nombramos como muestra a los elementos de interés de la base de datos, los cuales son los saldos menores a 2000 dólares."
      ],
      "metadata": {
        "id": "6TftInPRSWyP"
      }
    },
    {
      "cell_type": "code",
      "source": [
        "muestra = df.groupby(level=[\"ID\"]).filter(lambda x : x[\"Saldo pendiente (en dólares)\"]<2000)\n",
        "muestra = muestra.reset_index()\n",
        "muestra = muestra[\"Saldo pendiente (en dólares)\"].squeeze()\n",
        "muestra"
      ],
      "metadata": {
        "colab": {
          "base_uri": "https://localhost:8080/"
        },
        "id": "soYKlnR3X8Uh",
        "outputId": "ed920d33-4f0e-445b-b304-bacfadb4af41"
      },
      "execution_count": 448,
      "outputs": [
        {
          "output_type": "execute_result",
          "data": {
            "text/plain": [
              "0        63.00\n",
              "1       570.00\n",
              "2       261.00\n",
              "3       310.00\n",
              "4        71.14\n",
              "        ...   \n",
              "218    1099.00\n",
              "219    1678.00\n",
              "220     980.00\n",
              "221     329.00\n",
              "222    1201.00\n",
              "Name: Saldo pendiente (en dólares), Length: 223, dtype: float64"
            ]
          },
          "metadata": {},
          "execution_count": 448
        }
      ]
    },
    {
      "cell_type": "markdown",
      "source": [
        "Pedimos los valores de la encuesta piloto, el margén de error y la probabilidad permisible."
      ],
      "metadata": {
        "id": "Hvr9TgzuB6DN"
      }
    },
    {
      "cell_type": "code",
      "source": [
        "valido = False\n",
        "\n",
        "def validar(v):\n",
        "\tentero = int(v)\n",
        "\treturn entero >= 10 and entero <= 20\n",
        "\n",
        "print('Introduzca el tamaño de la encuesta de la encuesta piloto (de 10 a 20): ', end='')\n",
        "\n",
        "while not valido:\n",
        "\tv = input()\n",
        "\tvalido = validar(v)\n",
        "\tif not valido:\n",
        "\t\tprint('Lo siento, el valor no esta dentro del intervalo, vuelva a intentarlo: ', end='')\n",
        "\n",
        "print(f'El tamaño de la encuesta piloto es {v}.')\n",
        "v=pd.to_numeric(v)"
      ],
      "metadata": {
        "id": "0guiDmhVQpSq",
        "colab": {
          "base_uri": "https://localhost:8080/"
        },
        "outputId": "38c1aca8-8d26-42d1-f509-c301f85c856e"
      },
      "execution_count": 468,
      "outputs": [
        {
          "output_type": "stream",
          "name": "stdout",
          "text": [
            "Introduzca el tamaño de la encuesta de la encuesta piloto (de 10 a 20): 20\n",
            "El tamaño de la encuesta piloto es 20.\n"
          ]
        }
      ]
    },
    {
      "cell_type": "code",
      "source": [
        "valido1 = False\n",
        "\n",
        "def validar1(me):\n",
        "\tentero1 = float(me)\n",
        "\treturn entero1 >= 0 and entero1 <= 1\n",
        "\n",
        "print('Introduzca el margen de error (entre 0 y 1): ', end='')\n",
        "\n",
        "while not valido1:\n",
        "\tme = input()\n",
        "\tvalido1 = validar1(me)\n",
        "\tif not valido1:\n",
        "\t\tprint('Lo siento, el valor no esta dentro del intervalo, vuelva a intentarlo: ', end='')\n",
        "\n",
        "print(f'El margen de error es {me}.')\n",
        "\n",
        "me = pd.to_numeric(me)"
      ],
      "metadata": {
        "colab": {
          "base_uri": "https://localhost:8080/"
        },
        "id": "nz2eKfhTWSGI",
        "outputId": "9c4c395b-d6ea-4e5b-cb26-03255377dbf6"
      },
      "execution_count": 469,
      "outputs": [
        {
          "output_type": "stream",
          "name": "stdout",
          "text": [
            "Introduzca el margen de error (entre 0 y 1): .05\n",
            "El margen de error es .05.\n"
          ]
        }
      ]
    },
    {
      "cell_type": "code",
      "source": [
        "valido2 = False\n",
        "\n",
        "def validar2(alfa):\n",
        "\tentero2 = float(alfa)\n",
        "\treturn entero2 >= 90 and entero2 <= 99\n",
        "\n",
        "print('Introduzca el porcentaje error permisible (entre 90 y 99): ', end='')\n",
        "\n",
        "while not valido2:\n",
        "\talfa = input()\n",
        "\tvalido2 = validar2(alfa)\n",
        "\tif not valido2:\n",
        "\t\tprint('Lo siento, el valor no esta dentro del intervalo, vuelva a intentarlo: ', end='')\n",
        "\n",
        "print(f'El porcentaje error permisible es {alfa}%.')\n",
        "alfa = pd.to_numeric(alfa)\n",
        "alfa = 1-(alfa/100)"
      ],
      "metadata": {
        "colab": {
          "base_uri": "https://localhost:8080/"
        },
        "id": "wXLISJdRWTQN",
        "outputId": "933a283c-893a-4967-a16c-8c18dbbcc4fc"
      },
      "execution_count": 487,
      "outputs": [
        {
          "output_type": "stream",
          "name": "stdout",
          "text": [
            "Introduzca el porcentaje error permisible (entre 90 y 99): 95\n",
            "El porcentaje error permisible es 95%.\n"
          ]
        }
      ]
    },
    {
      "cell_type": "markdown",
      "source": [
        "En base al tamaño de la encuesta piloto obtenemos (aleatoriamente) datos de nuestra muestra."
      ],
      "metadata": {
        "id": "Uzo2KY3vCFPA"
      }
    },
    {
      "cell_type": "code",
      "source": [
        "ep = pd.Series(np.random.choice(muestra, v))"
      ],
      "metadata": {
        "id": "T8IdkWDljAVU"
      },
      "execution_count": 488,
      "outputs": []
    },
    {
      "cell_type": "markdown",
      "source": [
        "Y ahora obtenemos la proporción (saldos menores a 600 dólares) a partir de nuestros elementos obtenidos por la encuesta piloto."
      ],
      "metadata": {
        "id": "tLVOBATUCqha"
      }
    },
    {
      "cell_type": "code",
      "source": [
        "ep = pd.DataFrame(ep)\n",
        "ep.rename(columns={0:'Saldo pendiente'},\n",
        "                inplace=True)"
      ],
      "metadata": {
        "id": "Eo81-eq9pMUd"
      },
      "execution_count": 489,
      "outputs": []
    },
    {
      "cell_type": "code",
      "source": [
        "ep1 = ep.groupby(level=[0]).filter(lambda x : x[\"Saldo pendiente\"]<600)"
      ],
      "metadata": {
        "id": "wOkfxvfiWnnz"
      },
      "execution_count": 490,
      "outputs": []
    },
    {
      "cell_type": "code",
      "source": [
        "prop = ep1.count()/ep.count()"
      ],
      "metadata": {
        "id": "Lam53H2Zbqos"
      },
      "execution_count": 491,
      "outputs": []
    },
    {
      "cell_type": "markdown",
      "source": [
        "El valor z con el porcentaje de error permisible también lo calculamos."
      ],
      "metadata": {
        "id": "UBxkdg6gHjJZ"
      }
    },
    {
      "cell_type": "code",
      "source": [
        "import scipy.stats\n",
        "valorz = scipy.stats.norm.ppf(alfa/2)"
      ],
      "metadata": {
        "id": "8cJpSg7ucqsi"
      },
      "execution_count": 492,
      "outputs": []
    },
    {
      "cell_type": "markdown",
      "source": [
        "Y así obtenemos el tamaño de la muestra con la proporción estimada (redondeamos el número)."
      ],
      "metadata": {
        "id": "FBqGt35yHplF"
      }
    },
    {
      "cell_type": "code",
      "source": [
        "tamañomuestra = (valorz**2 * N * prop * (1-prop)) / (((N-1) * me**2) + (valorz**2 * prop * (1-prop)))\n",
        "tamañomuestra = tamañomuestra.squeeze()\n",
        "tamañomuestra = round(tamañomuestra)"
      ],
      "metadata": {
        "id": "YuqmKMO2dFNv"
      },
      "execution_count": 493,
      "outputs": []
    },
    {
      "cell_type": "markdown",
      "source": [
        "Y también obtenemos el tamaño de la muestra con la proporción $\\frac{1}{2}$.\n"
      ],
      "metadata": {
        "id": "RkSfy6obH_67"
      }
    },
    {
      "cell_type": "code",
      "source": [
        "tammues = (valorz**2 * N * .5 * (.5)) / (((N-1) * me**2) + (valorz**2 * .5 * (1-.5)))\n",
        "tammues = round(tammues)"
      ],
      "metadata": {
        "id": "U_MnUC_9IQfp"
      },
      "execution_count": 494,
      "outputs": []
    },
    {
      "cell_type": "markdown",
      "source": [
        "Ahora calculamos la proporción muestral con el primer tamaño calculado."
      ],
      "metadata": {
        "id": "WIbrlk54bwu0"
      }
    },
    {
      "cell_type": "code",
      "source": [
        "epmues1 = pd.Series(np.random.choice(muestra, tamañomuestra))\n",
        "epmues1 = pd.DataFrame(epmues1)\n",
        "a = epmues1.count()"
      ],
      "metadata": {
        "id": "T0ENaWzyLChJ"
      },
      "execution_count": 495,
      "outputs": []
    },
    {
      "cell_type": "code",
      "source": [
        "epmues1 = epmues1.groupby(level=[0]).filter(lambda x : x[0]<600)\n",
        "b = epmues1.count()\n",
        "epmues1 = epmues1.squeeze()"
      ],
      "metadata": {
        "id": "MQ9dCMOmL8wB"
      },
      "execution_count": 496,
      "outputs": []
    },
    {
      "cell_type": "code",
      "source": [
        "propmues1 = b/a\n",
        "propmues1 = propmues1.squeeze()"
      ],
      "metadata": {
        "id": "dSLSqaC2NWTh"
      },
      "execution_count": 497,
      "outputs": []
    },
    {
      "cell_type": "markdown",
      "source": [
        "También se calcula el error muestral y el intervalo de confianza."
      ],
      "metadata": {
        "id": "a9BlVNZ4cPEZ"
      }
    },
    {
      "cell_type": "code",
      "source": [
        "errormues1 = np.sqrt( ( (N-a)/(N-1) ) * ( (propmues1*(1 - propmues1)/a) ) )\n",
        "errormues1 = errormues1.squeeze()\n"
      ],
      "metadata": {
        "id": "T1WFepJlNuEV"
      },
      "execution_count": 498,
      "outputs": []
    },
    {
      "cell_type": "code",
      "source": [
        "interconfmues1 =  st.norm.interval (alpha = alfa , loc = propmues1)"
      ],
      "metadata": {
        "id": "GZTD2VHcPCM-"
      },
      "execution_count": 499,
      "outputs": []
    },
    {
      "cell_type": "markdown",
      "source": [
        "Y hacemos lo mismo con la proporción de $\\frac{1}{2}$."
      ],
      "metadata": {
        "id": "g3e4vVMjcYei"
      }
    },
    {
      "cell_type": "code",
      "source": [
        "epmues2 = pd.Series(np.random.choice(muestra, tammues))\n",
        "epmues2 = pd.DataFrame(epmues2)\n",
        "a2 = epmues2.count()\n",
        "epmues2\n",
        "epmues2 = epmues2.groupby(level=[0]).filter(lambda x : x[0]<600)\n",
        "b2 = epmues2.count()\n",
        "epmues2 = epmues2.squeeze()\n",
        "epmues2\n",
        "propmues2 = b2/a2\n",
        "propmues2 = propmues2.squeeze()\n",
        "propmues2\n",
        "errormues2 = np.sqrt( ( (N-a)/(N-1) ) * ( (propmues2*(1 - propmues2)/a) ) )\n",
        "errormues2 = errormues2.squeeze()\n",
        "errormues2\n",
        "interconfmues2 =  st.norm.interval (alpha = alfa , loc = propmues2)"
      ],
      "metadata": {
        "id": "fqMZKoULao3M"
      },
      "execution_count": 500,
      "outputs": []
    },
    {
      "cell_type": "markdown",
      "source": [
        "Y ahora imprimimos los resultados."
      ],
      "metadata": {
        "id": "j03SWzRLeP9t"
      }
    },
    {
      "cell_type": "code",
      "source": [
        "print(f'El tamaño de la encuesta piloto es: {v}.')\n",
        "print(f'El margen de error es: {me}.')\n",
        "print(f'El porcentaje error permisible es: {100-round((alfa*100))}%.')\n",
        "print(f'La proporción de la encuesta piloto es: {prop.squeeze()}.')"
      ],
      "metadata": {
        "colab": {
          "base_uri": "https://localhost:8080/"
        },
        "id": "x73JETRdeTa2",
        "outputId": "29ad0eb9-f57e-43f3-f126-97fdfcca41cc"
      },
      "execution_count": 501,
      "outputs": [
        {
          "output_type": "stream",
          "name": "stdout",
          "text": [
            "El tamaño de la encuesta piloto es: 20.\n",
            "El margen de error es: 0.05.\n",
            "El porcentaje error permisible es: 95%.\n",
            "La proporción de la encuesta piloto es: 0.2.\n"
          ]
        }
      ]
    },
    {
      "cell_type": "code",
      "source": [
        "print(f\"El tamaño de la muestra 1 es: {tamañomuestra}\")\n",
        "print(f\"La proporción de la muestra 1 es: {propmues1}\")\n",
        "print(f\"La error estándar de la muestra 1 es: {errormues1}\")\n",
        "print(f\"El intervalo de confianza de la muestra 1 es: {interconfmues1}\")"
      ],
      "metadata": {
        "colab": {
          "base_uri": "https://localhost:8080/"
        },
        "id": "FguR_hY4chkB",
        "outputId": "c9b5b3c9-4d79-4292-ba76-3b357d1596b4"
      },
      "execution_count": 502,
      "outputs": [
        {
          "output_type": "stream",
          "name": "stdout",
          "text": [
            "El tamaño de la muestra 1 es: 197\n",
            "La proporción de la muestra 1 es: 0.2131979695431472\n",
            "La error estándar de la muestra 1 es: 0.026158513962325436\n",
            "El intervalo de confianza de la muestra 1 es: (0.15049119159993335, 0.27590474748636107)\n"
          ]
        }
      ]
    },
    {
      "cell_type": "code",
      "source": [
        "print(f\"El tamaño de la muestra 2 es: {tammues}\")\n",
        "print(f\"La proporción de la muestra 2 es: {propmues2}\")\n",
        "print(f\"La error estándar de la muestra 2 es: {errormues2}\")\n",
        "print(f\"El intervalo de confianza de la muestra 2 es: {interconfmues2}\")"
      ],
      "metadata": {
        "colab": {
          "base_uri": "https://localhost:8080/"
        },
        "id": "bcEkeXORdbVM",
        "outputId": "b1cdba7d-3c91-4ab5-ab08-02a47c7ccef4"
      },
      "execution_count": 503,
      "outputs": [
        {
          "output_type": "stream",
          "name": "stdout",
          "text": [
            "El tamaño de la muestra 2 es: 278\n",
            "La proporción de la muestra 2 es: 0.19424460431654678\n",
            "La error estándar de la muestra 2 es: 0.025267652387311962\n",
            "El intervalo de confianza de la muestra 2 es: (0.13153782637333294, 0.2569513822597606)\n"
          ]
        }
      ]
    },
    {
      "cell_type": "markdown",
      "source": [
        "$\\textbf{Conclusiones:}$ El tamaño de la muestra crece cuando el margen de error es muy pequeño y la proporcion varia mucho por la probabilidad de error."
      ],
      "metadata": {
        "id": "tmGQx7MKonPO"
      }
    }
  ]
}